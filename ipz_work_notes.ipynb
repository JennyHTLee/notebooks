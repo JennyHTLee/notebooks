{
 "cells": [
  {
   "cell_type": "markdown",
   "metadata": {},
   "source": [
    "# Program Installation\n",
    "This section records all the program installation I have done in the servers I am using thus far - s400, SKYLLA, LUMMERLAND"
   ]
  },
  {
   "cell_type": "markdown",
   "metadata": {},
   "source": [
    "## s400"
   ]
  },
  {
   "cell_type": "code",
   "execution_count": null,
   "metadata": {},
   "outputs": [],
   "source": [
    "#programs that are already installed\n",
    "/opt/blast/ncbi-blast-2.2.26+/bin\n",
    "/sw/Fastx/bin\n",
    "/sw/cufflinks-1.3.0.Linux_x86_64\n",
    "/sw/R-3.3.1/bin\n",
    "/sw400/bin/samtools\n",
    "\n",
    "#anaconda\n",
    "sh Anaconda2-5.2.0-Linux-x86_64.sh\n",
    "\n",
    "#mummer-3.23\n",
    "conda install -c bioconda mummer \n",
    "\n",
    "#bowtie2\n",
    "conda install -c bioconda bowtie2\n",
    "\n",
    "#allmaps\n",
    "pip install biopython numpy deap networkx matplotlib jcvi\n",
    "wget --no-check-certificate https://www.dropbox.com/s/onsjieazu0uytgk/ALLMAPS-install.sh\n",
    "sh ALLMAPS-install.sh\n",
    "wget http://hgdownload.cse.ucsc.edu/admin/exe/linux.x86_64/liftOver\n",
    "chmod a+x liftOver\n",
    "\n",
    "#minimap and minidot\n",
    "git clone https://github.com/lh3/minimap && (cd minimap && make)\n",
    "git clone https://github.com/lh3/miniasm && (cd miniasm && make)\n",
    "git clone https://github.com/thackl/minidot.git\n",
    "#then in R\n",
    "install.packages(\"argparse\", contriburl=\"http://mirrors.tuna.tsinghua.edu.cn/CRAN/src/contrib/\")\n",
    "install.packages(\"ggplot2\")\n",
    "#exporting in myprofile\n",
    "export PATH=/home/s400/home00/pz1/lee-j/programs/minidot/bin:$PATH #minidot calls R script which is one folder outside of the bin within minidot, so\n",
    "\n",
    "#exonerate\n",
    "conda install -c bioconda exonerate\n",
    "\n",
    "#get newer R\n",
    "conda install -c r r #only get 3.4.3\n",
    "#get seletion tools package\n",
    "wget http://population-genetics.uni-giessen.de/~software/SelectionTools_18.2_R_x86_64-pc-linux-gnu.tar.gz\n",
    "#execute this way \n",
    "~/anaconda2/bin/R\n",
    "#then the package\n",
    "install.packages('/home/s400/home00/pz1/lee-j/programs/SelectionTools_18.2_R_x86_64-pc-linux-gnu.tar.gz', repos=NULL, type=\"source\")\n",
    "* installing *binary* package ‘SelectionTools’ ...\n",
    "* DONE (SelectionTools)\n",
    "#then load\n",
    "> library(SelectionTools)\n",
    "Error: package or namespace load failed for ‘SelectionTools’ in dyn.load(file, DLLpath = DLLpath, ...):\n",
    " unable to load shared object '/home/s400/home00/pz1/lee-j/anaconda2/lib/R/library/SelectionTools/libs/SelectionTools.so':\n",
    "  /lib64/libc.so.6: version `GLIBC_2.14' not found (required by /home/s400/home00/pz1/lee-j/anaconda2/lib/R/library/SelectionTools/libs/SelectionTools.so)\n",
    "#problem!\n",
    "#R version 3.3.1\n",
    "conda install -c r r=3.3.1\n",
    "> install.packages('/home/s400/home00/pz1/lee-j/programs/SelectionTools_18.2_R_x86_64-pc-linux-gnu.tar.gz', repos=NUL* installing *binary* package ‘SelectionTools’ ...\n",
    "* DONE (SelectionTools)\n",
    "> st.read.marker.data\n",
    "Error: object 'st.read.marker.data' not found\n",
    "> library(SelectionTools)\n",
    "Error in dyn.load(file, DLLpath = DLLpath, ...) : \n",
    "  unable to load shared object '/home/s400/home00/pz1/lee-j/anaconda2/lib/R/library/SelectionTools/libs/SelectionTools.so':\n",
    "  /lib64/libc.so.6: version `GLIBC_2.14' not found (required by /home/s400/home00/pz1/lee-j/anaconda2/lib/R/library/SelectionTools/libs/SelectionTools.so)\n",
    "In addition: Warning message:\n",
    "package ‘SelectionTools’ was built under R version 3.3.2 \n",
    "Error: package or namespace load failed for ‘SelectionTools’\n",
    "#remove\n",
    "conda remove  r=3.3.1\n"
   ]
  },
  {
   "cell_type": "markdown",
   "metadata": {},
   "source": [
    "## SKYLLA"
   ]
  },
  {
   "cell_type": "code",
   "execution_count": null,
   "metadata": {},
   "outputs": [],
   "source": [
    "#bismark\n",
    "git clone https://github.com/FelixKrueger/Bismark.git\n",
    "\n",
    "#miniconda\n",
    "wget https://repo.continuum.io/miniconda/Miniconda2-latest-Linux-x86_64.sh\n",
    "sh Miniconda2-latest-Linux-x86_64.sh\n",
    "\n",
    "#samtools\n",
    "conda install -c bioconda samtools\n",
    "\n",
    "#chromosomer\n",
    "pip install chromosomer\n",
    "\n",
    "#missing perl module, starts with cpanm installation\n",
    "#install local::lib\n",
    "wget https://cpan.metacpan.org/authors/id/H/HA/HAARG/local-lib-2.000024.tar.gz\n",
    "tar -xzf local-lib-2.000024.tar.gz\n",
    "cd local-lib-2.00002\n",
    "perl Makefile.PL --bootstrap\n",
    "make test && make install\n",
    "echo 'eval \"$(perl -I$HOME/perl5/lib/perl5 -Mlocal::lib)\"' >>~/.bashrc\n",
    "#install cpanminus\n",
    "curl -L http://cpanmin.us | perl - -l ~/perl5 App::cpanminus local::lib\n",
    "#install whatever you want! hooray!\n",
    "cpanm GD::Graph::lines #problem, when submitted to queue, module still not found even installed, meaning some exporting is not done in cluster, have to figure this out....\n",
    "\n",
    "cpanm Bio::SeqIO          \n",
    "\n",
    "#install own version of newer glibc ##doesn't work, gave up.\n",
    "wget \n",
    "tar -xzf glibc-2.19.tar.gz\n",
    "cd glibc-2.19\n",
    "mkdir build\n",
    "cd build\n",
    " ../configure --prefix=/home/gh2743/programs/glibc-install\n",
    "make\n",
    "make install\n",
    "export LD_LIBRARY_PATH=/home/gh2743/programs/glibc-install/lib\n",
    "/lib64/ld-linux-x86-64.so.2 --library-path /lib64 /bin/ls\n",
    "#this is default\n",
    "export LD_LIBRARY_PATH=/cm/shared/apps/gcc/4.8.1/lib:/cm/shared/apps/gcc/4.8.1/lib64:/cm/shared/apps/openmpi/gcc/64/1.6.5/lib\n",
    "        \n",
    "        \n"
   ]
  },
  {
   "cell_type": "markdown",
   "metadata": {},
   "source": [
    "## Rstudio"
   ]
  },
  {
   "cell_type": "code",
   "execution_count": null,
   "metadata": {},
   "outputs": [],
   "source": [
    "#downloaded the Selection Tools package from Frisch's group and install:\n",
    "http://population-genetics.uni-giessen.de/~software/\n",
    "install.packages('C://Users/gh2743/Downloads/SelectionTools_18.3.zip', repos=NULL, type=\"source\")"
   ]
  },
  {
   "cell_type": "markdown",
   "metadata": {},
   "source": [
    "# unix/awk/shell/etc cheatsheet\n",
    "This section records some commonly used hack that I tend to forget"
   ]
  },
  {
   "cell_type": "code",
   "execution_count": null,
   "metadata": {},
   "outputs": [],
   "source": [
    "#Assign variable in shell into awk:\n",
    "for f in chrlg1_ExR53_weird_markers_type1.txt; do fgrep -w -f $f 60k_SNP_probe_seq_ids_positiononBNS14013_conversion_length50_gap0_uniq_pid100.txt; chro=`echo $f | awk -F \"_\" '{print $1}'` ; done | cut -f1 |  awk -v chr=\"$chro\" -F \"\\t\" '{print $1\"\\t\"chr}'\n",
    "#another example\n",
    "for f in MSLfragScaff_scaffold_109_fragScaff_scaffold_73.paf\n",
    "do\n",
    "query=`echo $f | sed 's/MSL//' | awk -F \"_\" '{print $1\"_\"$2\"_\"$3}'`\n",
    "awk  -F \"\\t\" '$1!=$6 ' $f | awk -F \"\\t\" -v name=\"$query\" '$1 ~ name '\n",
    "\n",
    "#Check last touched time of file\n",
    "find -type f -printf '%T+ %p\\n' | sort >time.txt\n",
    "\n",
    "#to save jupyter notebook as html\n",
    "ipython nbconvert notebook.ipynb\n",
    "\n",
    "#To pscp from server to windows pc, start command prompt on windows, then:\n",
    "Z:\\>pscp lee-j@fb09-pg-s400.agrar.uni-giessen.de:/clc03/48b_BreedPath_Birgit_Samans_02_2018/BreedPath/Proposal_reports/BreedPath_Vorhabenbeschreibung_gesamt.pdf C:\\Users\\gh2743\\Documents\\BreedPath_Vorhabenbeschreibung_gesamt.pdf\n",
    "Z:\\>pscp C:\\Users\\gh2743\\Documents\\ExR53_23k_pp_pa_1mMorgan.csv lee-j@fb09-pg-s400.agrar.uni-giessen.de:/home/s400/data01/lee-j/BreedPath_06062018/data/genetic_map \n",
    "#make sure files are not opened/are saved else it will say file not found\n",
    "\n",
    "# To run vncserver for proper size\n",
    "vncserver  -geometry 1920x1080 -depth 24\n",
    "\n",
    "#my profile for s400\n",
    "###### Alias\n",
    "alias ls='ls --color=always'\n",
    "alias ll='ls -l'\n",
    "alias cp='cp -i'\n",
    "alias rm='rm -i'\n",
    "alias mycp='rsync -avzh --progress'\n",
    "alias mac2unix=\"perl -pi -e 's/\\r/\\n/g' \"\n",
    "alias ws1=\"cd /home/s400/data01/lee-j\"\n",
    "alias ws2=\"cd /home/s400/data02/lee-j\"\n",
    "##### Prompt\n",
    "PS1=\"[\\t] \\u@\\h: \\w $ \"\n",
    "\n"
   ]
  },
  {
   "cell_type": "markdown",
   "metadata": {},
   "source": [
    "# Potentially useful tools\n",
    "This section records tools that look like I would use in the future\n",
    "\n",
    "TreeView 3 - Preferred heatmap viewer due to it's ability to control color template \n",
    "\n",
    "Java Tree View - Very flexible cluster/heatmap viewer\n",
    "\n",
    "Open Access\n",
    "\n",
    "LTR_retriever: A Highly Accurate and Sensitive Program for Identification of Long Terminal Repeat Retrotransposons\n",
    "\n",
    "METHimpute: imputation-guided construction of complete methylomes from WGBS data\n",
    "\n",
    "Draw LD stuff http://mg2c.iask.in/mg2c_v2.0/\n",
    "\n",
    "Bandage: visualization of de novo assemblies\n",
    "\n",
    "Kablammo - blast visualizer"
   ]
  }
 ],
 "metadata": {
  "kernelspec": {
   "display_name": "Python 2",
   "language": "python",
   "name": "python2"
  },
  "language_info": {
   "codemirror_mode": {
    "name": "ipython",
    "version": 2
   },
   "file_extension": ".py",
   "mimetype": "text/x-python",
   "name": "python",
   "nbconvert_exporter": "python",
   "pygments_lexer": "ipython2",
   "version": "2.7.15"
  }
 },
 "nbformat": 4,
 "nbformat_minor": 2
}
