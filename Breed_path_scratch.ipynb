{
 "cells": [
  {
   "cell_type": "markdown",
   "metadata": {},
   "source": [
    "# Important paths\n",
    "My working dir: \n",
    "    /home/s400/data01/lee-j \n",
    "    /home/s400/data02/lee-j\n",
    "My home dir: \n",
    "    /home/s400/home00/pz1/lee-j\n",
    "Assembly data:\n",
    "    /home/s400/clc01/04_Bnapus_Reference_genomes/Novogene_06062018\n",
    "Birgit's documentation:\n",
    "    /home/s400/clc03/48b_BreedPath_Birgit_Samans_02_2018/BreedPath_Birgit_Samans_28022018.docx\n",
    "Proposal of this project:\n",
    "    /home/s400/clc03/48b_BreedPath_Birgit_Samans_02_2018/BreedPath/Proposal_reports/BreedPath_Vorhabenbeschreibung_gesamt.pdf\n",
    "Birgit's scripts:\n",
    "     /home/s400/clc03/48b_BreedPath_Birgit_Samans_02_2018/Scripte\n",
    "     /home/s400/clc03/48b_BreedPath_Birgit_Samans_02_2018/BreedPath/Data_Analysis_pools/Scripte\n",
    "Birgit's data:\n",
    "    /home/s400/clc03/48b_BreedPath_Birgit_Samans_02_2018/BreedPath"
   ]
  },
  {
   "cell_type": "code",
   "execution_count": null,
   "metadata": {},
   "outputs": [],
   "source": [
    "# Mapping quality in SAM\n",
    "Low AS, high MAPQ = mismatches but probable location\n",
    "High AS, low MAPQ = perfect alignment but possibly multiple locations\n",
    "MAPQ is the probability that a mapping position is correct\n",
    "AS is the alignment score\n",
    "Note that these two scores are generated differently in different aligners, so never compare across aligners"
   ]
  },
  {
   "cell_type": "code",
   "execution_count": null,
   "metadata": {},
   "outputs": [],
   "source": [
    "# convert centimorgan to physical distance?\n",
    "Centimorgan distance is based on recombination rate (1cM = 1% recombination freq)\n",
    "The relationship between centimorgan and physical distance is empirical\n"
   ]
  },
  {
   "cell_type": "markdown",
   "metadata": {},
   "source": [
    "# Breedpath"
   ]
  },
  {
   "cell_type": "markdown",
   "metadata": {},
   "source": [
    "## Actual work"
   ]
  },
  {
   "cell_type": "markdown",
   "metadata": {},
   "source": [
    "### data"
   ]
  },
  {
   "cell_type": "code",
   "execution_count": null,
   "metadata": {},
   "outputs": [],
   "source": [
    "cd /home/s400/data01/lee-j/BreedPath_06062018/data/genome\n",
    "cp /home/s400/clc01/04_Bnapus_Reference_genomes/04b_Bn_Darmor-bzh_v4.1_reference_Science_publication/Brassica_napus_v4.1.chromosomes.fa .\n",
    "cp /home/s400/clc01/04_Bnapus_Reference_genomes/04g_AM21_Novogene_012018/C101HW17031196/a.assemble/genome.fa AM21.fa\n",
    "cp /home/s400/clc01/04_Bnapus_Reference_genomes/04e_Darmor_NRgene_v1/Darmor_NRGene_pseudomolecules_v1.fasta.gz .\n",
    "cp /home/s400/clc01/04_Bnapus_Reference_genomes/Novogene_06062018/New_data/B_1/assemble/genome.assembly.fasta.gz  .\n",
    "cp /home/s400/clc01/04_Bnapus_Reference_genomes/Novogene_06062018/New_data/M/P101HW17031195-01_release.M.all_20180518/assemble/genome.assembly.fasta.gz MSL211.fa.gz"
   ]
  },
  {
   "cell_type": "code",
   "execution_count": null,
   "metadata": {},
   "outputs": [],
   "source": [
    "#Genetic map files\n",
    "#updated, previous txt files contain dates,\n",
    "sed 's/^M/\\n/g' ExR53_23k_pp_pa_1mMorgan.csv | sed 's/,/\\t/g'  > ExR53_23k_pp_pa_1mMorgan_formatted.csv\n",
    "sed 's/_pp_Pclear//' ExR53_23k_pp_pa_1mMorgan_formatted.csv   |  sed 's/_pa_Pclear//' | sed 's/_pp_Punclear_conflictPvsOffspring// ' | sed 's/_pa_Punclear_conflictPvsOffspring//' | sed 's/_conflictPvsOffspring//'  > ExR53_23k_pp_pa_1mMorgan_formatted2.csv\n",
    "\n",
    "#sheets from Ex1012-98_V8_R53-maptextsandnames.xlsx\n",
    "sed 's/^M/\\n/g' Ex1012-98_V8_R53-maptextsandnames_Ex1012-98.csv | sed 's/,/\\t/g'  > Ex1012-98_V8_R53-maptextsandnames_Ex1012-98_formatted.csv\n",
    "sed 's/^M/\\n/g' Ex1012-98_V8_R53-maptextsandnames_ExV8.csv | sed 's/,/\\t/g'  > Ex1012-98_V8_R53-maptextsandnames_ExV8_formatted.csv"
   ]
  },
  {
   "cell_type": "code",
   "execution_count": 2,
   "metadata": {
    "scrolled": true
   },
   "outputs": [
    {
     "ename": "SyntaxError",
     "evalue": "invalid syntax (<ipython-input-2-a4ee09a79a70>, line 2)",
     "output_type": "error",
     "traceback": [
      "\u001b[0;36m  File \u001b[0;32m\"<ipython-input-2-a4ee09a79a70>\"\u001b[0;36m, line \u001b[0;32m2\u001b[0m\n\u001b[0;31m    gunzip genome.assembly.fasta.gz\u001b[0m\n\u001b[0m                ^\u001b[0m\n\u001b[0;31mSyntaxError\u001b[0m\u001b[0;31m:\u001b[0m invalid syntax\n"
     ]
    }
   ],
   "source": [
    "cd /home/s400/data01/lee-j/BreedPath_06062018/data/genome\n",
    "gunzip genome.assembly.fasta.gz\n",
    "mv genome.assembly.fasta BNS14013_07062018.fa"
   ]
  },
  {
   "cell_type": "code",
   "execution_count": null,
   "metadata": {},
   "outputs": [],
   "source": []
  },
  {
   "cell_type": "markdown",
   "metadata": {},
   "source": [
    "### blast"
   ]
  },
  {
   "cell_type": "code",
   "execution_count": null,
   "metadata": {},
   "outputs": [],
   "source": [
    "/opt/blast/ncbi-blast-2.2.26+/bin/makeblastdb -in Darmor_NRGene_pseudomolecules_v1.fasta  -dbtype nucl > makeblastdb.log"
   ]
  },
  {
   "cell_type": "code",
   "execution_count": null,
   "metadata": {},
   "outputs": [],
   "source": [
    " /sw/Fastx/bin/fasta_formatter -i BNS14013_07062018.fa -o BNS14013_07062018.fa.cat"
   ]
  },
  {
   "cell_type": "code",
   "execution_count": null,
   "metadata": {},
   "outputs": [],
   "source": [
    "split -d -a1 -l620 BNS14013_07062018.fa.cat BNS14013_07062018.fa.cat_p"
   ]
  },
  {
   "cell_type": "code",
   "execution_count": null,
   "metadata": {},
   "outputs": [],
   "source": [
    "DB=\"Darmor_NRGene_pseudomolecules_v1.fasta\"\n",
    "QUERY0=\"BNS14013_07062018.fa.cat_p0\"\n",
    "OUT0=\"BNS14013_07062018.fa.cat_p0.ht\"\n",
    "QUERY1=\"BNS14013_07062018.fa.cat_p1\"\n",
    "OUT1=\"BNS14013_07062018.fa.cat_p1.ht\"\n",
    "QUERY2=\"BNS14013_07062018.fa.cat_p2\"\n",
    "OUT2=\"BNS14013_07062018.fa.cat_p2.ht\"\n",
    "QUERY3=\"BNS14013_07062018.fa.cat_p3\"\n",
    "OUT3=\"BNS14013_07062018.fa.cat_p3.ht\"\n",
    "QUERY4=\"BNS14013_07062018.fa.cat_p4\"\n",
    "OUT4=\"BNS14013_07062018.fa.cat_p4.ht\"\n",
    "WORKDIR=\"/home/s400/data01/lee-j/BreedPath_06062018/blast\"\n",
    "#=====================\n",
    "\n",
    "cd $WORKDIR\n",
    "\n",
    "/opt/blast/ncbi-blast-2.2.26+/bin/blastn -db $DB -query $QUERY0 -out $OUT0 -num_threads 8 -evalue 0.00010 -max_target\n",
    "_seqs 1 -outfmt '6 qseqid sseqid pident length mismatch gapopen qstart qend sstart send evalue bitscore qlen slen'\n",
    "/opt/blast/ncbi-blast-2.2.26+/bin/blastn -db $DB -query $QUERY1 -out $OUT1 -num_threads 8 -evalue 0.00010 -max_target\n",
    "_seqs 1 -outfmt '6 qseqid sseqid pident length mismatch gapopen qstart qend sstart send evalue bitscore qlen slen'\n",
    "/opt/blast/ncbi-blast-2.2.26+/bin/blastn -db $DB -query $QUERY2 -out $OUT2 -num_threads 8 -evalue 0.00010 -max_target\n",
    "_seqs 1 -outfmt '6 qseqid sseqid pident length mismatch gapopen qstart qend sstart send evalue bitscore qlen slen'\n",
    "/opt/blast/ncbi-blast-2.2.26+/bin/blastn -db $DB -query $QUERY3 -out $OUT3 -num_threads 8 -evalue 0.00010 -max_target\n",
    "_seqs 1 -outfmt '6 qseqid sseqid pident length mismatch gapopen qstart qend sstart send evalue bitscore qlen slen'\n",
    "/opt/blast/ncbi-blast-2.2.26+/bin/blastn -db $DB -query $QUERY4 -out $OUT4 -num_threads 8 -evalue 0.00010 -max_target\n",
    "_seqs 1 -outfmt '6 qseqid sseqid pident length mismatch gapopen qstart qend sstart send evalue bitscore qlen slen'"
   ]
  },
  {
   "cell_type": "code",
   "execution_count": null,
   "metadata": {},
   "outputs": [],
   "source": [
    "/opt/blast/ncbi-blast-2.2.26+/bin/makeblastdb -in BNS14013_07062018.fa  -dbtype nucl > makeblastdb_BNS14013_07062018.log"
   ]
  },
  {
   "cell_type": "code",
   "execution_count": null,
   "metadata": {},
   "outputs": [],
   "source": [
    "# Genetic map\n",
    "cp /home/s400/clc01/03_60K_Brassica_Illumina_Read_outs/60K_Bn_Infinium_array_flanking_sequences_blasted_to_Bn_v40_Birgit/60k_SNP_probe_seq.fasta .\n",
    "awk NF 60k_SNP_probe_seq.fasta > 60k_SNP_probe_seq_removedemptylines.fasta"
   ]
  },
  {
   "cell_type": "code",
   "execution_count": null,
   "metadata": {},
   "outputs": [],
   "source": [
    "fgrep -w -A1 -f ExR53_23k_pp_and_pa.txt.id 60k_SNP_probe_seq_removedemptylines.fasta  | grep -v \"^--$\"  > 60k_SNP_probe_seq_removedemptylines_onlymappedones.fasta\n"
   ]
  },
  {
   "cell_type": "code",
   "execution_count": null,
   "metadata": {},
   "outputs": [],
   "source": [
    "cat  60k_SNP_probe_seq_removedemptylines_onlymappedones.fasta | awk '{if($1~/[ACTG]/) print \"bla\"$1 ; else print $0}' | tr -d \"\\n\" | sed 's/bla/\\t/g' | sed 's/>/\\n/g' | sed   '$a\\'   > 60k_SNP_probe_seq_removedemptylines_onlymappedones.tab\n",
    "#### sed   '$a\\' is to add new line to end of file"
   ]
  },
  {
   "cell_type": "code",
   "execution_count": null,
   "metadata": {},
   "outputs": [],
   "source": [
    "## To see if the sequences are there in exact match\n",
    "## using grep so that it is faster, but we will not get position information in this case\n",
    "## just realised that this method doesn't include reverse\n",
    "\n",
    "cat 60k_SNP_probe_seq_removedemptylines_onlymappedones.tab | while read header seq in line\n",
    "do\n",
    "  printf $header\"\\t\"\n",
    "  grep -B1  $seq BNS14013_07062018.fa.cat | head -1 | tr -d \"\\n\" #remove newline in grep output\n",
    "  printf \"\\n\"\n",
    "done\n"
   ]
  },
  {
   "cell_type": "code",
   "execution_count": null,
   "metadata": {},
   "outputs": [],
   "source": [
    "### mapipng the 50 bp genetic map information to genome\n",
    "READ=\"60k_SNP_probe_seq_removedemptylines_onlymappedones.fasta\"\n",
    "DB=\"BNS14013_07062018.fa.cat\"\n",
    "SAM=\"60k_SNP_probe_seq_vs_BNS14013_07062018_bowtie.sam\"\n",
    "SAM_EXACT=\"60k_SNP_probe_seq_vs_BNS14013_07062018_bowtie.sam_exactmatch\"\n",
    "CPU=4\n",
    "\n",
    "## build index\n",
    "bowtie2-build $DB $DB\n",
    "## run bowtie\n",
    "time bowtie2 --end-to-end --sensitive --no-unal -f  -U $READ -x $DB -S $SAM --threads $CPU 1> 60k_SNP_probe_seq_vs_BNS14013_07062018_bowtie.out 2>>60k_SNP_probe_seq_vs_BNS14013_07062018_bowtie.err\n",
    "## exact match only\n",
    "grep 'AS:i:0' $SAM  > $SAM_EXACT\n"
   ]
  },
  {
   "cell_type": "code",
   "execution_count": null,
   "metadata": {},
   "outputs": [],
   "source": [
    "### do same thing using blast\n",
    "\n",
    "DB=\"BNS14013_07062018.fa\"\n",
    "QUERY=\"60k_SNP_probe_seq_removedemptylines_onlymappedones.fasta\"\n",
    "OUT=\"60k_SNP_probe_seq_removedemptylines_onlymappedones_vs_BNS14013_07062018.ht\"\n",
    "WORKDIR=\"/home/s400/data01/lee-j/BreedPath_06062018/blast\"\n",
    "#=====================\n",
    "\n",
    "cd $WORKDIR\n",
    "\n",
    "/opt/blast/ncbi-blast-2.2.26+/bin/blastn -db $DB -query $QUERY -out $OUT -num_threads 8 -evalue 0.00010 -outfmt '6 qseqid sseqid pident length mismatch \n",
    "gapopen qstart qend sstart send evalue bitscore qlen slen'\n"
   ]
  },
  {
   "cell_type": "code",
   "execution_count": null,
   "metadata": {},
   "outputs": [],
   "source": [
    "# get exact from blast\n",
    "awk -F \"\\t\" '$4~/^50$/ && $3~/100.00/' 60k_SNP_probe_seq_removedemptylines_onlymappedones_vs_BNS14013_07062018.ht |cut -f1 | sort | uniq | wc\n",
    "19572"
   ]
  },
  {
   "cell_type": "code",
   "execution_count": null,
   "metadata": {},
   "outputs": [],
   "source": [
    "# compare to exact from blast in birgit's file\n",
    "awk -F \"\\t\" '$4~/^50$/ && $3~/100/' BLAST_filtered_60kSNP_BrassicaNapus_4.1.csv  > temp\n",
    "fgrep -w -f 60k_SNP_probe_seq_removedemptylines_onlymappedones.id temp  | cut -f1 | sort | uniq |wc\n",
    "  18891   18891  410057\n"
   ]
  },
  {
   "cell_type": "code",
   "execution_count": null,
   "metadata": {},
   "outputs": [],
   "source": [
    "# blast again using all seqs instad of just the matched ones\n",
    "DB=\"BNS14013_07062018.fa\"\n",
    "QUERY=\"60k_SNP_probe_seq_removedemptylines.fasta\"\n",
    "OUT=\"60k_SNP_probe_seq_removedemptylines_vs_BNS14013_07062018.ht\"\n",
    "WORKDIR=\"/home/s400/data01/lee-j/BreedPath_06062018/blast\"\n",
    "#=====================\n",
    "\n",
    "cd $WORKDIR\n",
    "\n",
    "/opt/blast/ncbi-blast-2.2.26+/bin/blastn -db $DB -query $QUERY -out $OUT -num_threads 8 -evalue 0.00010 -outfmt '6 qseqid sseqid piden\n",
    "t length mismatch gapopen qstart qend sstart send evalue bitscore qlen slen'\n",
    "\n",
    "\n",
    "# filter by PID>=95, alignment length 50 and no gaps\n",
    "awk -F \"\\t\" '$4==50 && $3>=95 && $6==0' 60k_SNP_probe_seq_removedemptylines_vs_BNS14013_07062018.ht > 60k_SNP_probe_seq_removedemptylines_vs_BNS14013_07062018.ht_filtered\n",
    "\n",
    "# then only get those with one unique hit\n",
    "cut -f1 60k_SNP_probe_seq_removedemptylines_vs_BNS14013_07062018.ht_filtered | uniq -u  > 60k_SNP_probe_seq_removedemptylines_vs_BNS14013_07062018.ht_filtered_uniqheaders\n",
    "fgrep -w -f 60k_SNP_probe_seq_removedemptylines_vs_BNS14013_07062018.ht_filtered_uniqheaders 60k_SNP_probe_seq_removedemptylines_vs_BNS14013_07062018.ht_filtered > 60k_SNP_probe_seq_removedemptylines_vs_BNS14013_07062018.ht_filtered_uniq\n",
    "\n",
    "#think that the previous filtering method could be less accurate\n",
    "#so in the filtering step we want to do two things 1) filter out bad alignment - so we do alignment length = 50, and 0 gaps. Checked the PID, the lowest is 86. That means they are pretty real, if we filter this from the beginning, we might end up including nonuniq mapping. Let's don't filter that yet 2) Filter for probes that map to multiple region \n",
    "#so now we do filtering step one first\n",
    "awk -F \"\\t\" '$4==50 && $6==0' 60k_SNP_probe_seq_removedemptylines_vs_BNS14013_07062018.ht  > 60k_SNP_probe_seq_removedemptylines_vs_BNS14013_07062018.ht_length50_gap0\n",
    "#now filter out those that are nonunique\n",
    "cut -f1 60k_SNP_probe_seq_removedemptylines_vs_BNS14013_07062018.ht_length50_gap0 | uniq -u  > temp\n",
    "fgrep -w -f temp 60k_SNP_probe_seq_removedemptylines_vs_BNS14013_07062018.ht_length50_gap0 >  60k_SNP_probe_seq_removedemptylines_vs_BNS14013_07062018.ht_length50_gap0_uniq\n",
    "#now filter by pid95\n",
    "awk -F \"\\t\" '$3>=95' 60k_SNP_probe_seq_removedemptylines_vs_BNS14013_07062018.ht_length50_gap0_uniq > 60k_SNP_probe_seq_removedemptylines_vs_BNS14013_07062018.ht_length50_gap0_uniq_pid95\n",
    "\n",
    "#also noticed that some markers are assigned to identical positions - to be specific there are like  4 pairs of them\n",
    "ExR5323-lg10:51.746\toriginal_scaffold_103:2791448\n",
    "ExR5323-lg11:15.637\toriginal_scaffold_642:9715005\n",
    "ExR5323-lg11:175.328\toriginal_scaffold_818:1737119\n",
    "ExR5323-lg13:186.252\toriginal_scaffold_1407:8919900\n",
    "\n",
    "#after some tracing turns out it is the way I give positions without taking into account of forward and reverse, for eg:\n",
    "Bn-A10-p9052583\toriginal_scaffold_103\t100.00\t50\t0\t0\t1\t50\t2791448\t2791497\t2e-18\t93.5\t50\t3321524\n",
    "Bn-A10-p9052683\toriginal_scaffold_103\t100.00\t50\t0\t0\t1\t50\t2791448\t2791399\t2e-18\t93.5\t50\t3321524\n",
    "both are assigned to 2791448\n"
   ]
  },
  {
   "cell_type": "code",
   "execution_count": null,
   "metadata": {},
   "outputs": [],
   "source": [
    "# to use the ids in allmaps, make a conversion table to avoid future confusion\n",
    "# blast positions of express are added to the ids\n",
    "awk -F \"\\t\" '{print $1\"\\t\"$2\".\"$9}' 60k_SNP_probe_seq_removedemptylines_vs_BNS14013_07062018.ht_filtered_uniq  > 60k_SNP_probe_seq_ids_positiononBNS14013_conversion.txt\n",
    "\n",
    "#redo\n",
    "awk -F \"\\t\" '{print $1\"\\t\"$2\".\"$9}'  60k_SNP_probe_seq_removedemptylines_vs_BNS14013_07062018.ht_length50_gap0_uniq_pid95 >  60k_SNP_probe_seq_ids_positiononBNS14013_conversion_length50_gap0_uniq_pid95.txt\n"
   ]
  },
  {
   "cell_type": "code",
   "execution_count": null,
   "metadata": {},
   "outputs": [],
   "source": [
    "#create the updated id to centimorgan file\n",
    "#perl /home/s400/home00/pz1/lee-j/scripts/scripts/merge_two_files_by_ids.pl 60k_SNP_probe_seq_ids_positiononBNS14013_conversion.txt  ExR53_23k_pp_pa_1mMorgan_formatted2.csv \n",
    "perl /home/s400/home00/pz1/lee-j/scripts/scripts/merge_two_files_by_ids.pl 60k_SNP_probe_seq_ids_positiononBNS14013_conversion.txt  ExR53_23k_pp_pa_1mMorgan_formatted2.csv  physicalpositiononBNS14013_to_geneticmapExR5323kpppa1mMorgan.txt  physicalpositiononBNS14013_to_geneticmapExR5323kpppa1mMorgan_unanchored.txt\n",
    "#fake the file into mst readable. the details in the header seems like not to be read by ALLMAPS, all it cares is the content, it separate linkage groups by the labels in the list, have to manually add those\n",
    "cat fakemstmapheader.txt  physicalpositiononBNS14013_to_geneticmapExR5323kpppa1mMorgan.txt > physicalpositiononBNS14013_to_geneticmapExR5323kpppa1mMorgan.mst\n",
    "# convert to bed file\n",
    "python -m jcvi.assembly.geneticmap bed physicalpositiononBNS14013_to_geneticmapExR5323kpppa1mMorgan.mst --switch\n",
    "# merge the bed files, in this case i only have one bed file but i still need to merge because merge will do some formatting\n",
    "python -m jcvi.assembly.allmaps mergebed physicalpositiononBNS14013_to_geneticmapExR5323kpppa1mMorgan.bed -o physicalpositiononBNS14013_to_geneticmapExR5323kpppa1mMorgan_merged.bed\n",
    "# now run it # make sure liftover is exported in path\n",
    " python -m jcvi.assembly.allmaps path physicalpositiononBNS14013_to_geneticmapExR5323kpppa1mMorgan_merged.bed BNS14013_07062018.fa\n",
    "# get pdfs of nice plots yay :D\n",
    "#calculate the lengths of anchored and unanchored\n",
    "fgrep -vw -f  physicalpositiononBNS14013_to_geneticmapExR5323kpppa1mMorgan_merged.unplaced.fasta.id BNS14013_07062018.fa.sizes | awk -F \"\\t\" '{s+=$2}END{print s}'\n",
    "793840960\n",
    "fgrep -w -f  physicalpositiononBNS14013_to_geneticmapExR5323kpppa1mMorgan_merged.unplaced.fasta.id BNS14013_07062018.fa.sizes | awk -F \"\\t\" '{s+=$2}END{print s}'\n",
    "135641160\n",
    "\n"
   ]
  },
  {
   "cell_type": "code",
   "execution_count": null,
   "metadata": {},
   "outputs": [],
   "source": [
    "#now repeat everything using 3 maps combined\n",
    "perl /home/s400/home00/pz1/lee-j/scripts/scripts/merge_two_files_by_ids.pl 60k_SNP_probe_seq_ids_positiononBNS14013_conversion.txt  Ex1012-98_V8_R53-maptextsandnames_Ex1012-98_formatted2.csv  physicalpositiononBNS14013_to_geneticmapEx1012-98.txt  physicalpositiononBNS14013_to_geneticmapEx1012-98_unanchored.txt\n",
    "perl /home/s400/home00/pz1/lee-j/scripts/scripts/merge_two_files_by_ids.pl 60k_SNP_probe_seq_ids_positiononBNS14013_conversion.txt  Ex1012-98_V8_R53-maptextsandnames_ExV8_formatted2.csv  physicalpositiononBNS14013_to_geneticmapExV8.txt  physicalpositiononBNS14013_to_geneticmapExV8_unanchored.txt\n",
    "# create mst\n",
    "cat fakemstmapheader.txt physicalpositiononBNS14013_to_geneticmapExV8.txt > physicalpositiononBNS14013_to_geneticmapExV8.mst\n",
    "cat fakemstmapheader.txt  physicalpositiononBNS14013_to_geneticmapEx1012-98.txt > physicalpositiononBNS14013_to_geneticmapEx1012-98.mst\n",
    "# manually add linkage groups\n",
    "# look like this\n",
    "#fragScaff_scaffold_21.4578249   281.03\n",
    "#original_scaffold_1403.866190   283.935\n",
    "#original_scaffold_1403.807248   283.935\n",
    "#fragScaff_scaffold_21.1982095   285.821\n",
    "#fragScaff_scaffold_21.2219153   286.802\n",
    "#fragScaff_scaffold_21.2010025   286.802\n",
    "#;ENDOFGROUP\n",
    "#group lg2\n",
    "#;BEGINOFGROUP\n",
    "#fragScaff_scaffold_65.250334    0\n",
    "#fragScaff_scaffold_65.250510    0\n",
    "#fragScaff_scaffold_65.254734    0\n",
    "#original_scaffold_292.5067561   3.456\n",
    "#create bed\n",
    "python -m jcvi.assembly.geneticmap bed physicalpositiononBNS14013_to_geneticmapExV8.mst --switch\n",
    "python -m jcvi.assembly.geneticmap bed physicalpositiononBNS14013_to_geneticmapEx1012-98.mst --switch\n",
    "#rename or sym link files to shorter name\n",
    "#merge bed \n",
    "python -m jcvi.assembly.allmaps mergebed physicalpositiononBNS14013_to_geneticmapEx1012-98.bed  physicalpositiononBNS14013_to_geneticmapExV8.bed  physicalpositiononBNS14013_to_geneticmapExR5323kpppa1mMorgan.bed -o physicalpositiononBNS14013_to_geneticmapExR5323andV8andEx1012-98_merged.bed\n",
    "#check weights file, make sure the genetic map in the first line is the one you want the chr to be numbered with\n",
    "#run it\n",
    "python -m jcvi.assembly.allmaps path physicalpositiononBNS14013_to_geneticmapExR5323andV8andEx1012-98_merged.bed  BNS14013_07062018.fa --cpus=10 1> physicalpositiononBNS14013_to_geneticmapExR5323andV8andEx1012-98_merged.log 2>>physicalpositiononBNS14013_to_geneticmapExR5323andV8andEx1012-98_merged.log \n",
    "#calculate the anchored and unanchored scaffold lengths\n",
    "fgrep -w -f physicalpositiononBNS14013_to_geneticmapExR5323andV8andEx1012-98_merged.unplaced.id BNS14013_07062018.fa.sizes | awk -F \"\\t\" '{s+=$2}END{print s}'\n",
    "131553756\n",
    "fgrep -vw -f physicalpositiononBNS14013_to_geneticmapExR5323andV8andEx1012-98_merged.unplaced.id BNS14013_07062018.fa.sizes | awk -F \"\\t\" '{s+=$2}END{print s}'\n",
    "797928364\n"
   ]
  },
  {
   "cell_type": "code",
   "execution_count": null,
   "metadata": {},
   "outputs": [],
   "source": [
    "#run minimap to plot\n",
    "\n",
    "minimap chrlg3.fa chrA03.fa  > express17_vs_NRgene_A03.paf 2>express17_vs_NRgene_A03.log\n"
   ]
  },
  {
   "cell_type": "code",
   "execution_count": null,
   "metadata": {},
   "outputs": [],
   "source": [
    "#find which scaffold belongs to which chr\n",
    "#sort paf by length of alignment and get the top 10 and if the count is 5/10, then take it \n",
    "for f in *scaffold*paf; do echo $f;  awk -F \"\\t\" '$1~/scaffold/ && $6!~/scaffold/' $f | awk -F \"\\t\" '{print $0\"\\t\"$4-$3}' | sort -rn -k14,14 | head | cut -f6 | uniq -c ; done  | awk '$1>=5' | grep -B1 chr | grep -v \"^--$\" |   awk '{ printf(\"%s\",$0); n++; if(n%2==0) { printf(\"\\n\");} else { printf(\" \");} }'  | awk -F \" \" '{print $1\"\\t\"$3}'  | sed 's/NRGene_express//' | sed 's/\\.paf//' > expressscaffolds_vs_NRgene.txt\n"
   ]
  },
  {
   "cell_type": "code",
   "execution_count": null,
   "metadata": {},
   "outputs": [],
   "source": [
    "#get corresponding scaffolds of genetic map\n",
    "grep -w -A1 \"$(cut -f5 Ex1012-98_ExR53_ExV8_merged.lifted.bed | awk -F \":\" '{print $1}' | sort | uniq)\" /home/s400/data01/lee-j/BreedPath_06062018/data/genome/BNS14013_07062018.fa.cat | grep -v \"^--$\"  > Ex1012-98_ExR53_ExV8_merged.correspondingscaf.fa"
   ]
  },
  {
   "cell_type": "code",
   "execution_count": null,
   "metadata": {},
   "outputs": [],
   "source": [
    "#get weird markers\n",
    "vi /home/s400/data02/lee-j/BreedPath_06062018/allmaps/run4/output_weird_markers.sh\n",
    "for i in $(seq 1 19)\n",
    "do\n",
    "grep -w \"chrlg${i}\" Ex1012-98_ExR53_ExV8_merged.lifted.bed | grep \"ExR53-lg${i}:\" |  python  ~/scripts/scripts/output_unsequential_markers.py  | uniq > chr\n",
    "lg${i}_ExR53_weird_markers_type1.txt\n",
    "grep -w \"chrlg${i}\" Ex1012-98_ExR53_ExV8_merged.lifted.bed | grep -v \"ExR53-lg${i}:\" |  grep  \"ExR53\"  | cut -f5 | sed 's/:/\\./'  | uniq > chrlg${i}_ExR53_\n",
    "weird_markers_type2.txt\n",
    "#grep -w \"chrlg${i}\" Ex1012-98_ExR53_ExV8_merged.lifted.bed | grep \"ExR53-lg${i}:\" |  python  ~/scripts/scripts/output_unsequential_markers.py  | uniq > ch\n",
    "rlg${i}_ExR53_weird_markers.txt\n",
    "#grep -w \"chrlg${i}\" Ex1012-98_ExR53_ExV8_merged.lifted.bed | grep -v \"ExR53-lg${i}:\" |  grep  \"ExR53\"  | cut -f5 | sed 's/:/\\./'  | uniq >> chrlg${i}_ExR5\n",
    "3_weird_markers.txt\n",
    "#grep -w \"chrlg${i}\" Ex1012-98_ExR53_ExV8_merged.lifted.bed | grep \"ExR53-lg${i}:\" |  python  ~/scripts/scripts/output_unsequential_markers.py  | uniq > ch\n",
    "rlg${i}_ExR53_weird_markers.txt\n",
    "#grep -w \"chrlg${i}\" Ex1012-98_ExR53_ExV8_merged.lifted.bed | grep -v \"ExR53-lg${i}:\" |  grep  \"ExR53\"  | cut -f5 | sed 's/:/\\./'  | uniq >> chrlg${i}_ExR5\n",
    "3_weird_markers.txt\n",
    "done\n",
    "\n",
    "##type1: markers where the physical location is in sequence but the genetic is not\n",
    "##type2: markers that are from other linkage group - unexpected integration of sequences\n",
    "\n",
    "#process weird markers\n",
    "\n",
    "vi /home/s400/data02/lee-j/BreedPath_06062018/allmaps/run4/process_weird_markers.sh \n",
    "for i in $(seq 1 19)\n",
    "do\n",
    "awk -F \"\\t\" '{print $0\"\\tchrlg'$i'\\tdiscordant_position\"}' chrlg${i}_ExR53_weird_markers_type1.txt.markerid > chrlg${i}_ExR53_weird_markers_type1.txt.marke\n",
    "rid.processed\n",
    "done\n",
    "\n",
    "for i in $(seq 1 19)\n",
    "do\n",
    "awk -F \"\\t\" '{print $0\"\\tchrlg'$i'\\tdifferent_chromosome\"}' chrlg${i}_ExR53_weird_markers_type2.txt.markerid > chrlg${i}_ExR53_weird_markers_type2.txt.mark\n",
    "erid.processed\n",
    "done\n"
   ]
  },
  {
   "cell_type": "code",
   "execution_count": null,
   "metadata": {},
   "outputs": [],
   "source": [
    "perl ~/scripts/scripts/contig_stats.pl  -i MSL211.fa.cat > MSL211.fa.stats\n",
    "\n",
    "#output sorted scaffold size\n",
    "awk '{if($1~/^>/) print $1; else print length}' AM21.fa.cat  | awk '{ printf(\"%s\",$0); n++; if(n%2==0) { printf(\"\\n\");} else { printf(\"\\t\");} }' | sort -rn -k2,2 > AM21.fa.size\n",
    "awk '{if($1~/^>/) print $1; else print length}' MSL211.fa.cat  | awk '{ printf(\"%s\",$0); n++; if(n%2==0) { printf(\"\\n\");} else { printf(\"\\t\");} }' | sort -rn -k2,2 > MSL211.fa.size\n",
    "\n",
    "#get scaffolds above 1Mbp\n",
    "grep -w  -A1 \"$(awk -F \"\\t\" '$2>=1000000' MSL211.fa.size  | cut -f1)\" MSL211.fa.cat | grep -v \"^--$\"  > MSL211.fa_above1Mbp\n",
    "grep -w -A1 \"$(awk -F \"\\t\" '$2>=1000000' AM21.fa.size  | cut -f1)\" AM21.fa.cat | grep -v \"^--$\"  > AM21.fa_above1Mbp\n",
    "grep -w  -A1 \"$(awk -F \"\\t\" '$2>=1000000' BNS14013_07062018.fa.size   | cut -f1)\" BNS14013_07062018.fa.cat | grep -v \"^--$\"  > BNS14013_07062018.fa_above1Mbp\n",
    "\n",
    "#blast\n",
    "/opt/blast/ncbi-blast-2.2.26+/bin/makeblastdb -in BNS14013_07062018.fa_above1Mbp  -dbtype nucl > makeblastdb.log"
   ]
  },
  {
   "cell_type": "code",
   "execution_count": null,
   "metadata": {},
   "outputs": [],
   "source": [
    "[17:49:44] lee-j@fb09-pg-s400: /home/s400/data01/lee-j/BreedPath_06062018/blast_AM21andMSL211_to_Express $ more minimap.sh \n",
    "#for i in $(seq -w 1 9)\n",
    "#do\n",
    "# minidot -m \"-L 5000 -c 30 -t 8 -f 0.01\" -o  express17_vs_NRgene_C${i}.png chrlg${i}.fa chrC${i}.fa\n",
    "#done\n",
    "\n",
    "HIT=\"/home/s400/data01/lee-j/BreedPath_06062018/blast_AM21andMSL211_to_Express/MSL211.fa_above1Mbp_vs_BNS14013_07062018.fa_above1Mbp.ht\"\n",
    "ASCAF=\"AM21_scaff\"\n",
    "BSCAF=\"BNS14013_scaff\"\n",
    "MSCAF=\"MSL211_scaff\"\n",
    "\n",
    "cat $HIT | while read MSL BNS other in line\n",
    "do\n",
    "minidot -m \"-L 5000 -c 30 -t 8 -f 0.01\" -o MSL${MSL}_${BNS}.png ${MSCAF}/${MSL}.fa ${BSCAF}/${BNS}.fa\n",
    "done\n"
   ]
  },
  {
   "cell_type": "code",
   "execution_count": null,
   "metadata": {},
   "outputs": [],
   "source": [
    "#approximate the coverage of alignment on paf files for the two assemblies vs express\n",
    "\n",
    "vi calculate_coverage.sh\n",
    "#MSLfragScaff_scaffold_109_fragScaff_scaffold_73.paf\n",
    "for f in MSL*.paf\n",
    "do\n",
    "query=`echo $f | sed 's/MSL//' | awk -F \"_\" '{print $1\"_\"$2\"_\"$3}'`\n",
    "awk  -F \"\\t\" '$1!=$6 ' $f | awk -F \"\\t\" -v name=\"$query\" '$1 ~ name ' |   awk -F \"\\t\" '{s+=$11}END{print $1\"\\t\"$6\"\\t\"s/$2*100}'\n",
    "done\n",
    "\n",
    "sh  calculate_coverage.sh | sort -k3,3 -rn > MSL_vs_Express617_paf.alncov\n",
    "sh  calculate_coverage.sh | sort -k3,3 -rn > AM21_vs_Express617_paf.alncov\n",
    "\n"
   ]
  },
  {
   "cell_type": "code",
   "execution_count": null,
   "metadata": {},
   "outputs": [],
   "source": [
    "#we got the contigs!\n",
    "#get the top100\n",
    "awk '{if($1~/^>/) print $1; else print length}' AM21_contig.fa  | awk '{ printf(\"%s\",$0); n++; if(n%2==0) { printf(\"\\n\");} else { printf(\"\\t\");} }' | sort -rn -k2,2 > AM21_contig.fa.size\n",
    "awk '{if($1~/^>/) print $1; else print length}' MSL211_contig.fa  | awk '{ printf(\"%s\",$0); n++; if(n%2==0) { printf(\"\\n\");} else { printf(\"\\t\");} }' | sort -rn -k2,2 > MSL211_contig.fa.size\n",
    "grep -w -A1 \"$(head -100 AM21_contig.fa.size | cut -f1)\" AM21_contig.fa | grep -v \"^--$\" > AM21_contig.fa_top100\n",
    "grep -w -A1 \"$(head -100 MSL211_contig.fa.size | cut -f1)\" MSL211_contig.fa | grep -v \"^--$\" > MSL211_contig.fa_top100\n",
    "\n",
    "WORKDIR=\"/home/s400/data01/lee-j/BreedPath_06062018/blast_AM21andMSL211_to_Express/contigs\"\n",
    "\n",
    "DB=\"BNS14013_07062018.fa_above1Mbp\"\n",
    "QUERY0=\"MSL211_contig.fa_top100\"\n",
    "QUERY1=\"AM21_contig.fa_top100\"\n",
    "OUT0=\"MSL211_contig.fa_top100_vs_BNS14013_07062018.fa_above1Mbp.ht\"\n",
    "OUT1=\"AM21_contig.fa_top100_vs_BNS14013_07062018.fa_above1Mbp.ht\"\n",
    "CPU=\"4\"\n",
    "#=====================\n",
    "\n",
    "cd $WORKDIR\n",
    "\n",
    "#/opt/blast/ncbi-blast-2.2.26+/bin/makeblastdb -in AM21.fa_above1Mbp  -dbtype nucl > AM21.fa_above1Mbp.log\n",
    "#/opt/blast/ncbi-blast-2.2.26+/bin/makeblastdb -in MSL211.fa_above1Mbp  -dbtype nucl > MSL211.fa_above1Mbp.log\n",
    "/opt/blast/ncbi-blast-2.2.26+/bin/blastn -db $DB -query $QUERY0 -out $OUT0 -num_threads $CPU -evalue 0.00010 -max_target_seqs 1 -outfmt '6 qseqid sseqid pident \n",
    "length mismatch gapopen qstart qend sstart send evalue bitscore qlen slen'\n",
    "/opt/blast/ncbi-blast-2.2.26+/bin/blastn -db $DB -query $QUERY0 -out $OUT1 -num_threads $CPU -evalue 0.00010 -max_target_seqs 1 -outfmt '6 qseqid sseqid pident \n",
    "length mismatch gapopen qstart qend sstart send evalue bitscore qlen slen'\n",
    "\n",
    "\n",
    "#calculate cov for the top 100 longest contigs\n",
    "for f in AM*.paf\n",
    "do\n",
    "query=`echo $f | sed 's/AM//' | awk -F \"_\" '{print $1}'`\n",
    "awk  -F \"\\t\" '$1!=$6 ' $f | awk -F \"\\t\" -v name=\"$query\" '$1 ~ name ' |   awk -F \"\\t\" '{s+=$11}END{print $1\"\\t\"$6\"\\t\"s/$2*100}'\n",
    "done\n",
    "\n",
    "\n"
   ]
  },
  {
   "cell_type": "code",
   "execution_count": null,
   "metadata": {},
   "outputs": [],
   "source": [
    "#also got the updated NRGene 1.1\n",
    "awk '{if($1~/>/) print $1\"_v1.1\"; else print $0}' NRGenev1.1.fasta  > NRGenev1.1.fasta_rename\n",
    "fasta_formatter -i  NRGenev1.1.fasta_rename -o NRGenev1.1.fasta_rename.cat\n",
    "fastaexplode NRGenev1.1.fasta_rename.cat\n",
    "\n",
    "#minidot to all\n",
    "for f in *_scaffold_*.fa\n",
    "do\n",
    " minidot -m \"-L 5000 -c 30 -t 8 -f 0.01\" -o  NRGenev1.1_express${f}.png $f chrA01_v1.1.fa chrA02_v1.1.fa chrA03_v1.1.fa chrA04_v1.1.fa chrA05_v1.1.fa chrA06_v1.1.fa chrA07_v1.1.fa chrA08_v1.1.fa chrA09_v1.1.fa chrA10_v1.1.fa chrC01_v1.1.fa chrC02_v1.1.fa chrC03_v1.1.fa chrC04_v1.1.fa chrC05_v1.1.fa chrC06_v1.1.fa chrC07_v1.1.fa chrC08_v1.1.fa chrC09_v1.1.fa\n",
    "done\n",
    "## just realised that minidot output everything to /tmp and then the /tmp here is tiny that it got full\n",
    "##  -T TMP         path to tmp file location [/tmp]\n",
    "## make sure to set this next time - somehow doesnt work?! end up editing the minidot original script, changing tmp to ./\n",
    "\n",
    "#mini\n",
    "cat expressscaffolds_vs_NRgene.txt  | while read scaf chr in line; do minidot -m \"-L 5000 -c 30 -t 8 -f 0.01\" -o ${scaf}_${chr}v1.1.png ${scaf} ${chr}_v1.1.fa; done\n",
    "\n"
   ]
  },
  {
   "cell_type": "code",
   "execution_count": null,
   "metadata": {},
   "outputs": [],
   "source": [
    "#NRGene 1.2\n",
    "get /projects/NGS Analysis Results/B. napus Darmor NRGene data/Darmor_NRGene_v12.fasta.gz <- from pawsey data\n",
    "fastaexplode Darmor_NRGene_v12.fasta\n",
    "ln -s /home/s400/data01/lee-j/BreedPath_06062018/data/genome/[AC]*_NRGene_1.2.fa ."
   ]
  },
  {
   "cell_type": "markdown",
   "metadata": {},
   "source": []
  },
  {
   "cell_type": "markdown",
   "metadata": {},
   "source": []
  },
  {
   "cell_type": "markdown",
   "metadata": {},
   "source": [
    "# Run BISMARK\n",
    "0. fastqc?\n",
    "1. step 1, convert and index genomes\n",
    "timetaken: "
   ]
  },
  {
   "cell_type": "code",
   "execution_count": null,
   "metadata": {},
   "outputs": [],
   "source": [
    "#!/bin/bash\n",
    "#$ -S /bin/bash\n",
    "#$ -N bismark_step_1         #jobname\n",
    "#$ -wd /fhgfs/gh2743/BreedPath_06062018/workingdir             #working directory during submission\n",
    "# $ -o /fhgfs/gh2743/BreedPath_06062018/workingdir/$JOB_ID.out #commented\n",
    "#$ -j n            #stderr -> stdout redirection\n",
    "#$ -q regular         #job-queue, regular == 5 days max runtime\n",
    "                           #or long (no maximum runtime, 260 slots total)\n",
    "                           #or debug (1h maximum runtime, higher priority)\n",
    "#$ -l h_rt=24:00:00  #maximum estimated runtime, eg 24 hours\n",
    "#$ -l h_vmem=1.9G   #maximum requested memory per core\n",
    "#$ -pe shm 8 #use openmp to share memory between 8 cores, so I get 16 GB in total\n",
    "\n",
    "date #log start time\n",
    "module add bowtie2\n",
    "\n",
    "WORKING_DIR=\"/fhgfs/gh2743/BreedPath_06062018/workingdir\"\n",
    "\n",
    "cmd1=\"/home/gh2743/programs/Bismark/bismark_genome_preparation --path_to_bowtie /cm/shared/apps/bowtie2/bowtie2-2.3.3.1-linux-x86_64/ --genomic_composition --verbose /fhgfs/gh2743/BreedPath_06062018/workingdir/genome_input_for_bismark\"\n",
    "\n",
    "\n",
    "cd $WORKING_DIR\n",
    "echo $cmd1\n",
    "\n",
    "$cmd1\n",
    "\n",
    "exit"
   ]
  },
  {
   "cell_type": "markdown",
   "metadata": {},
   "source": [
    "2. step 2, align reads to four versions of genomes\n",
    "timetaken: 83170625 pairs of reads, 21h 40m 48s"
   ]
  },
  {
   "cell_type": "code",
   "execution_count": null,
   "metadata": {},
   "outputs": [],
   "source": [
    "#!/bin/bash\n",
    "#$ -S /bin/bash\n",
    "#$ -N bismark_step_2        #jobname\n",
    "#$ -wd /fhgfs/gh2743/BreedPath_06062018/workingdir             #working directory during submission\n",
    "#$ -j n            #stderr -> stdout redirection\n",
    "#$ -q regular         #job-queue, regular == 5 days max runtime\n",
    "                           #or long (no maximum runtime, 260 slots total)\n",
    "                           #or debug (1h maximum runtime, higher priority)\n",
    "#$ -l h_rt=72:00:00  #maximum estimated runtime, eg 24 hours\n",
    "#$ -l h_vmem=1.9G   #maximum requested memory per core\n",
    "#$ -pe shm 32 #use openmp to share memory between 8 cores, so I get 16 GB in total\n",
    "\n",
    "date #log start time\n",
    "module add bowtie2\n",
    "\n",
    "WORKING_DIR=\"/fhgfs/gh2743/BreedPath_06062018/workingdir\"\n",
    "\n",
    "####bismark [options] <genome_folder> {-1 <mates1> -2 <mates2> | <singles>}\n",
    "cmd1=\"/home/gh2743/programs/Bismark/bismark genome_input_for_bismark -o /fhgfs/gh2743/BreedPath_06062018/workingdir/2_bismark --path_to_bowtie /cm/shared/apps/bowtie2/bowtie2-2.3.3.1-linux-x86_64/ -1 FCH2FN3CCXY_L2_BRAvasMAACJAAA-58_1.fq -2 FCH2FN3CCXY_L2_BRAvasMAACJAAA-58_1.fq\"\n",
    "\n",
    "#-p parallel cores\n",
    "\n",
    "cd $WORKING_DIR\n",
    "echo $cmd1\n",
    "\n",
    "$cmd1\n",
    "\n",
    "echo done\n",
    "date\n",
    "\n",
    "exit\n"
   ]
  },
  {
   "cell_type": "markdown",
   "metadata": {},
   "source": [
    "3. step 3, run bismark_methylation_extractor\n",
    "time taken: in one min"
   ]
  },
  {
   "cell_type": "code",
   "execution_count": null,
   "metadata": {},
   "outputs": [],
   "source": [
    "/home/gh2743/programs/Bismark/bismark_methylation_extractor --samtools_path /home/gh2743/miniconda2/bin/samtools --parallel 4 --scaffolds --genome_folder /fhgfs/gh2743/BreedPath_06062018/workingdir/genome_input_for_bismark --paired-end FCH2FN3CCXY_L2_BRAvasMAACJAAA-58_1_bismark_bt2_pe.sam.gz"
   ]
  },
  {
   "cell_type": "markdown",
   "metadata": {},
   "source": [
    "4. convert to coverage output"
   ]
  },
  {
   "cell_type": "code",
   "execution_count": null,
   "metadata": {},
   "outputs": [],
   "source": [
    " ~/programs/Bismark/bismark2bedGraph CpG_OT_FCH2FN3CCXY_L2_BRAvasMAACJAAA-58_1_bismark_bt2_pe.sam.gz.txt  -o test\n",
    "\n",
    "test.bedGraph\n",
    "<chromosome> <start position> <end position> <methylation percentage>\n",
    "original_scaffold_754\t6306419\t6306420\t100\n",
    "original_scaffold_754\t6306524\t6306525\t100\n",
    "original_scaffold_754\t6306528\t6306529\t100\n",
    "original_scaffold_754\t6306718\t6306719\t100\n",
    "\n",
    "test.gz.bismark.cov\n",
    "<chromosome> <start position> <end position> <methylation percentage> <count methylated> <count unmethylated>\n",
    "original_scaffold_754\t6306420\t6306420\t100\t2\t0\n",
    "original_scaffold_754\t6306525\t6306525\t100\t2\t0\n",
    "original_scaffold_754\t6306529\t6306529\t100\t2\t0\n",
    "original_scaffold_754\t6306719\t6306719\t100\t2\t0\n"
   ]
  },
  {
   "cell_type": "markdown",
   "metadata": {},
   "source": [
    "The mapping rate is so low, the sequencing cov is about 26x, there must be something wrong\n",
    "\n",
    "83170625 reads; of these:\n",
    "  83170625 (100.00%) were paired; of these:\n",
    "    83170075 (100.00%) aligned concordantly 0 times\n",
    "    460 (0.00%) aligned concordantly exactly 1 time\n",
    "    90 (83170625 reads; of these:0.00%) aligned concordantly >1 times\n",
    "\n",
    "  83170625 (0.00% overall alignment rate\n",
    "100.00%) were paired; of these:\n",
    "    83170097 (100.00%) aligned concordantly 0 times\n",
    "    437 (0.00%) aligned concordantly exactly 1 time\n",
    "    91 (0.00%) aligned concordantly >1 times\n",
    "0.00% overall alignment rate\n",
    "Processed 83170625 sequences in total\n"
   ]
  },
  {
   "cell_type": "markdown",
   "metadata": {},
   "source": [
    "# Run Chromosomer \n",
    "https://github.com/gtamazian/chromosomer \n",
    "https://github.com/gtamazian/chromosomer/wiki/Brief-guide-to-Chromosomer-assembly-process\n",
    "1. Chromosomer does ref based scaffolding\n",
    "2. First is align the contigs to a reference genome - I have genome AM21 and MSL211 contigs, my reference is express 617 scaffolds - which are pretty good, so split, run blast without top hit (?)"
   ]
  },
  {
   "cell_type": "code",
   "execution_count": null,
   "metadata": {},
   "outputs": [],
   "source": [
    "split -l 134586 -d a_contig.fa a_contig.fa_p\n",
    "split -l 156902 -d  m_contig.fa m_contig.fa_p\n",
    "\n",
    "cmd1=\"/home/gh2743/miniconda2/bin/makeblastdb -in BNS14013_07062018.fa.cat -dbtype nucl -out BNS14013_07062018.fa.cat\"\n",
    "\n",
    "echo $cmd1\n",
    "$cmd1\n",
    "\n",
    "for i in $(seq 0 4)\n",
    "        do\n",
    "        /home/gh2743/miniconda2/bin/blastn -db BNS14013_07062018.fa.cat -query a_contig.fa_p0${i} -out a_contig.fa_p0${i}_vs_express617.ht -num_threads 12 -evalue 0.00010 -outfmt 6\n",
    "        /home/gh2743/miniconda2/bin/blastn -db BNS14013_07062018.fa.cat -query m_contig.fa_p0${i} -out m_contig.fa_p0${i}_vs_express617.ht -num_threads 12 -evalue 0.00010 -outfmt 6\n",
    "        done\n",
    "\n",
    "#Turns out chromosomer only read the 2 top hits, so should've set to max_target_seqs 2 to save time"
   ]
  },
  {
   "cell_type": "code",
   "execution_count": null,
   "metadata": {},
   "outputs": [],
   "source": [
    "cat  a*ht  > a_contig.fa.abv1k.fa_vs_express617.ht\n",
    "cat  m*ht  > m_contig.fa.abv1k.fa_vs_express617.ht"
   ]
  },
  {
   "cell_type": "markdown",
   "metadata": {},
   "source": [
    "3. Run chromosomer fragmentmap, requires blast output, fragment length file, and also gap_size argument\n",
    "- gap size argument is recommended to be the maximum insert size of the mate pair lib used for scaffolding - which is actually the minimum distance between contigs, if the scaffolding works properly"
   ]
  },
  {
   "cell_type": "code",
   "execution_count": null,
   "metadata": {},
   "outputs": [],
   "source": [
    "#fragment length file\n",
    "chromosomer fastalength m_contig.fa m_contig.length\n",
    "chromosomer fastalength a_contig.fa a_contig.length\n",
    "\n",
    "#run fragmentmap\n",
    "chromosomer fragmentmap alignment_file gap_size fragmentlengthfile output_map\n",
    "chromosomer fragmentmap a_contig.fa.abv1k.fa_vs_express617.ht 20000 a_contig.length a_contig.fa.abv1k.fa_vs_express617.map\n",
    "chromosomer fragmentmap m_contig.fa.abv1k.fa_vs_express617.ht 20000 m_contig.length m_contig.fa.abv1k.fa_vs_express617.map\n",
    "#get three output files per run\n",
    "-rw-r--r-- 1 gh2743 gh2743 127K Jul 16 23:22 m_contig.fa.abv1k.fa_vs_express617_unplaced.txt\n",
    "-rw-r--r-- 1 gh2743 gh2743 131K Jul 16 23:22 m_contig.fa.abv1k.fa_vs_express617_unlocalized.txt\n",
    "-rw-r--r-- 1 gh2743 gh2743 2.1M Jul 16 23:22 m_contig.fa.abv1k.fa_vs_express617.map\n",
    "\n",
    "#run assemble to get fasta of assembled sequences\n",
    "chromosomer assemble map fragment_fasta output_fasta\n",
    "chromosomer assemble a_contig.fa.abv1k.fa_vs_express617.map a_contig.fa.abv1k.fa  a_contig_assembledbychromosomer.fa\n",
    "chromosomer assemble m_contig.fa.abv1k.fa_vs_express617.map m_contig.fa.abv1k.fa  m_contig_assembledbychromosomer.fa"
   ]
  },
  {
   "attachments": {},
   "cell_type": "markdown",
   "metadata": {},
   "source": [
    "# Contigs of AM21 and MSC211\n",
    "\n",
    "1. I evaluated whether the contigs quality is similar to the scaffolds:\n",
    "\n",
    "\t| AM21 |\tMSC21\n",
    "Number of scaffolds  |\t308448\t| 352098\n",
    "Number of scaffolds >= 1Mbp\t| 199\t| 167\n",
    "Number of scaffolds with >=50% of the length align to single scaffold of express617\t| 61\t| 36\n",
    "\t| 0.3065326633 |\t0.2155688623\n",
    "Number of contigs\t| 336463\t| 392253\n",
    "Range of length for top 100 longest contigs \t| 452857 to 1037972\t| 371540 to 762398\n",
    "Number of contigs with >=50% of the length align to single scaffold of express 617 |88 |\t86\n",
    "\n",
    "2. Then I run Chromosomer to try to place them based on Express 617 scaffolds\n",
    "\n",
    "3. Then I plot the length distribution of the contigs for placed/unplaced \n",
    "\n",
    "4. The contigs (or the placed scaffolds) will be kept for pangenome later\n"
   ]
  },
  {
   "cell_type": "code",
   "execution_count": null,
   "metadata": {},
   "outputs": [],
   "source": []
  }
 ],
 "metadata": {
  "kernelspec": {
   "display_name": "Python 2",
   "language": "python",
   "name": "python2"
  },
  "language_info": {
   "codemirror_mode": {
    "name": "ipython",
    "version": 2
   },
   "file_extension": ".py",
   "mimetype": "text/x-python",
   "name": "python",
   "nbconvert_exporter": "python",
   "pygments_lexer": "ipython2",
   "version": "2.7.15"
  }
 },
 "nbformat": 4,
 "nbformat_minor": 2
}
